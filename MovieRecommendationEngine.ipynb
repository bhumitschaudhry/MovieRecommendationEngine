{
  "nbformat": 4,
  "nbformat_minor": 0,
  "metadata": {
    "colab": {
      "name": "MovieRecommendationEngine.ipynb",
      "provenance": [],
      "collapsed_sections": []
    },
    "kernelspec": {
      "name": "python3",
      "display_name": "Python 3"
    }
  },
  "cells": [
    {
      "cell_type": "code",
      "metadata": {
        "id": "aXZ_HklUCeO7",
        "colab": {
          "base_uri": "https://localhost:8080/",
          "height": 357
        },
        "outputId": "0187ac0e-5bba-46f0-f71f-bf5af5596ba7"
      },
      "source": [
        "!wget 'https://raw.githubusercontent.com/RG2806/Recommendation-Engine-Movies-/master/movie_dataset.csv'\n",
        "import pandas as pd\n",
        "import numpy as np\n",
        "from sklearn.feature_extraction.text import CountVectorizer\n",
        "from sklearn.metrics.pairwise import cosine_similarity\n",
        "\n",
        "data = pd.read_csv('/content/movie_dataset.csv')\n",
        "\n",
        "features = ['keywords','director','genres','cast']\n",
        "\n",
        "for feature in features:\n",
        "  data[feature] = data[feature].fillna('')\n",
        "\n",
        "data['combined_features'] = data['keywords']+\" \"+data['director']+\" \"+data['genres']+\" \"+data['cast']\n",
        "\n",
        "cv = CountVectorizer()\n",
        "count_matrix = cv.fit_transform(data[\"combined_features\"])\n",
        "\n",
        "cosine_sim = cosine_similarity(count_matrix)\n",
        "\n",
        "def get_title_from_index(index):\n",
        "  return data[data.index == index][\"title\"].values[0]\n",
        "def get_index_from_title(title):\n",
        "  return data[data.title == title][\"index\"].values[0]\n",
        "\n",
        "movie_user_likes = input(\"Enter the movie you liked\")\n",
        "movie_index = get_index_from_title(movie_user_likes)\n",
        "similar = list(enumerate(cosine_sim[movie_index]))\n",
        "\n",
        "sorted_similar = sorted(similar,key=lambda x:x[1], reverse=True)[1:8]\n",
        "\n",
        "i = 0\n",
        "print(\"Some movies similiar to \" + movie_user_likes + \" are:\")\n",
        "for element in sorted_similar:\n",
        "  print(get_title_from_index(element[0]))\n",
        "  i = i+1\n",
        "  if i > 7:\n",
        "    break;"
      ],
      "execution_count": null,
      "outputs": [
        {
          "output_type": "stream",
          "text": [
            "--2020-06-23 02:47:24--  https://raw.githubusercontent.com/RG2806/Recommendation-Engine-Movies-/master/movie_dataset.csv\n",
            "Resolving raw.githubusercontent.com (raw.githubusercontent.com)... 151.101.0.133, 151.101.64.133, 151.101.128.133, ...\n",
            "Connecting to raw.githubusercontent.com (raw.githubusercontent.com)|151.101.0.133|:443... connected.\n",
            "HTTP request sent, awaiting response... 200 OK\n",
            "Length: 23432179 (22M) [text/plain]\n",
            "Saving to: ‘movie_dataset.csv’\n",
            "\n",
            "movie_dataset.csv   100%[===================>]  22.35M  38.1MB/s    in 0.6s    \n",
            "\n",
            "2020-06-23 02:47:25 (38.1 MB/s) - ‘movie_dataset.csv’ saved [23432179/23432179]\n",
            "\n",
            "Enter the movie you likedSpectre\n",
            "Some movies similiar to Spectre are:\n",
            "Skyfall\n",
            "Quantum of Solace\n",
            "The Girl with the Dragon Tattoo\n",
            "The Hunger Games: Catching Fire\n",
            "Johnny English Reborn\n",
            "One for the Money\n",
            "The Adventurer: The Curse of the Midas Box\n"
          ],
          "name": "stdout"
        }
      ]
    },
    {
      "cell_type": "markdown",
      "metadata": {
        "id": "gYCOOVPiecIg"
      },
      "source": [
        "# **OUTPUT BELOW**"
      ]
    },
    {
      "cell_type": "code",
      "metadata": {
        "id": "cNi4b0oHeWXP",
        "colab": {
          "base_uri": "https://localhost:8080/",
          "height": 153
        },
        "outputId": "7f1d1927-fce8-49e1-f7e9-e1011e17c5e7"
      },
      "source": [
        ""
      ],
      "execution_count": null,
      "outputs": [
        {
          "output_type": "stream",
          "text": [
            "Some movies similiar to Spectre are:\n",
            "Skyfall\n",
            "Quantum of Solace\n",
            "The Girl with the Dragon Tattoo\n",
            "The Hunger Games: Catching Fire\n",
            "Johnny English Reborn\n",
            "One for the Money\n",
            "The Adventurer: The Curse of the Midas Box\n"
          ],
          "name": "stdout"
        }
      ]
    }
  ]
}