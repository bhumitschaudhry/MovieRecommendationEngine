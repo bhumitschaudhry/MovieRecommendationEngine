{
  "nbformat": 4,
  "nbformat_minor": 0,
  "metadata": {
    "colab": {
      "provenance": []
    },
    "kernelspec": {
      "name": "python3",
      "display_name": "Python 3"
    },
    "language_info": {
      "name": "python"
    }
  },
  "cells": [
    {
      "cell_type": "code",
      "execution_count": 4,
      "metadata": {
        "colab": {
          "base_uri": "https://localhost:8080/"
        },
        "id": "ZfaQlEyNX9Xz",
        "outputId": "05b8c349-31ed-4834-c8a3-7d66cac914e5"
      },
      "outputs": [
        {
          "output_type": "stream",
          "name": "stdout",
          "text": [
            "--2023-10-31 06:24:24--  https://raw.githubusercontent.com/bhumitschaudhry/MovieRecommendationEngine/main/movie_dataset.csv\n",
            "Resolving raw.githubusercontent.com (raw.githubusercontent.com)... 185.199.109.133, 185.199.110.133, 185.199.111.133, ...\n",
            "Connecting to raw.githubusercontent.com (raw.githubusercontent.com)|185.199.109.133|:443... connected.\n",
            "HTTP request sent, awaiting response... 200 OK\n",
            "Length: 23432179 (22M) [text/plain]\n",
            "Saving to: ‘movie_dataset.csv.2’\n",
            "\n",
            "movie_dataset.csv.2 100%[===================>]  22.35M  --.-KB/s    in 0.1s    \n",
            "\n",
            "2023-10-31 06:24:25 (222 MB/s) - ‘movie_dataset.csv.2’ saved [23432179/23432179]\n",
            "\n"
          ]
        }
      ],
      "source": [
        "!wget 'https://raw.githubusercontent.com/bhumitschaudhry/MovieRecommendationEngine/main/movie_dataset.csv'\n",
        "import pandas as pd\n",
        "import numpy as np\n",
        "from sklearn.feature_extraction.text import CountVectorizer\n",
        "from sklearn.metrics.pairwise import cosine_similarity\n",
        "\n",
        "data = pd.read_csv('/content/movie_dataset.csv')\n",
        "\n",
        "features = ['keywords','director','genres','cast']\n",
        "\n",
        "for feature in features:\n",
        "  data[feature] = data[feature].fillna('')\n",
        "\n",
        "data['combined_features'] = data['keywords']+\" \"+data['director']+\" \"+data['genres']+\" \"+data['cast']\n",
        "\n",
        "cv = CountVectorizer()\n",
        "count_matrix = cv.fit_transform(data[\"combined_features\"])\n",
        "\n",
        "cosine_sim = cosine_similarity(count_matrix)\n",
        "\n",
        "def get_title_from_index(index):\n",
        "  return data[data.index == index][\"title\"].values[0]\n",
        "def get_index_from_title(title):\n",
        "  return data[data.title == title][\"index\"].values[0]"
      ]
    },
    {
      "cell_type": "code",
      "source": [
        "movie_user_likes = input(\"Enter the movie you liked: \")\n",
        "movie_index = get_index_from_title(movie_user_likes)\n",
        "similar = list(enumerate(cosine_sim[movie_index]))\n",
        "\n",
        "sorted_similar = sorted(similar,key=lambda x:x[1], reverse=True)[1:8]\n",
        "i = 0\n",
        "print(\"Some movies similiar to \" + movie_user_likes + \" are: \")\n",
        "for element in sorted_similar:\n",
        "  print(get_title_from_index(element[0]))\n",
        "  i = i+1\n",
        "  if i > 7:\n",
        "    break;"
      ],
      "metadata": {
        "colab": {
          "base_uri": "https://localhost:8080/"
        },
        "id": "BC_zyYKYYAlG",
        "outputId": "bc9e4986-fb77-472a-e930-03ce806c6efb"
      },
      "execution_count": 5,
      "outputs": [
        {
          "output_type": "stream",
          "name": "stdout",
          "text": [
            "Enter the movie you liked: Avatar\n",
            "Some movies similiar to Avatar are: \n",
            "Guardians of the Galaxy\n",
            "Aliens\n",
            "Star Wars: Clone Wars: Volume 1\n",
            "Star Trek Into Darkness\n",
            "Star Trek Beyond\n",
            "Alien\n",
            "Lockout\n"
          ]
        }
      ]
    }
  ]
}